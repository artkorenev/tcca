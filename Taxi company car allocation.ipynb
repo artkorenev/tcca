{
 "cells": [
  {
   "cell_type": "markdown",
   "metadata": {},
   "source": [
    "# Taxi company car allocation\n",
    "\n",
    "\n",
    "### Optimization Methods, MA06002, 2016\n",
    "\n",
    "* Artem Korenev\n",
    "* Andrei Kvasov\n",
    "* Anton Marin\n",
    "* Oleg Sudakov\n",
    "\n",
    "It is common knowledge, that the financial efficiency, or, equivalently, profit of a taxi company depends on how many customers its drivers will be able to serve, and what resources should be spent to achieve such result. The company should also consider its reputation as a brand, which depends on, among other factors, on how fast its cars are able to pick up clients and to drive them to their destination. \n",
    "\n",
    "Both of these metrics greatly depend on how many cars a company should employ, and where they should be allocated geographically during the day.\n",
    "\n",
    "In this problem, our team will examine historical data of Uber pickups in New York City, collected from April to September 2014.\n",
    "\n",
    "# Problem formulation\n",
    "\n",
    "The dataset contains the following information about Uber pickups in New York City: Date and time of the Uber pickup, the latitude of the Uber pickup, and the longitude of it. The pickup locations will be represented as points of a graph, where the weight of a given edge between vertices will be the distance between two points. We will be solving vehicle allocation problem, assuming that we know the orders' locations and times in advance.\n",
    "\n",
    "Let's examine elements of the problem individually:\n",
    "\n",
    "## Taxi drivers\n",
    "\n",
    "The total number of taxi drivers will be denoted as $N$. Each driver will start his working day at position $X_0^j$ at time $T_0^j$, where $j$ denotes the index of a taxi car.\n",
    "\n",
    "We will assume, that the driver's shift has a following schedule:\n",
    "\n",
    "1. The car $j$ waits for orders at a specific point $X_w^j$, starting from the time $T_w^j$;\n",
    "2. The car drives to pick up the client $k$ at the same point at time $T_p^k$;\n",
    "3. After picking up the client, car immediately drives to its destination $X_d$. It arrives at time $T_a^k$;\n",
    "4. The car drops the client at the destination point and afterwards heads to the next pickup point $X_{w+1}^j$ to wait for the order. It starts waiting for the next client at time $T_{w+1}^j$ (if the car waits for the next client at the drop-off point of the previous order, $T_{w+1}^j = T_a^k$.\n",
    "\n",
    "Obviously, $T_a^k = T_p^k + time(X_p, X_d)$, and $T_{w+1}^j = T_a^k + time(X_d, X_{w+1}^j)$, where the $time(A, B)$ denotes the time needed to get from point $A$ to point $B$. $T_p^k$ is given by the dataset.\n",
    "\n",
    "We will introduce two penalties for each car:\n",
    "\n",
    "* $c_{d}$ - downtime cost per unit of time, induced on each taxi car when it is stationary.\n",
    "* $c_{f}$ - fuel cost per unit of time, induced on each taxi car when it is en route.\n",
    "\n",
    "Therefore, if the car $j$ is assigned to order $k$, the penalty for this individual order equals to:\n",
    "\n",
    "$$P_{j, k} = time(X_w^j, X_p)c_{f} + (T_p^k - T_w^j - time(X_w^j, X_p))c_{d} + time(X_p, X_d)c_{f} + time(X_d, X_{w+1}^j)c_{f}$$\n",
    "\n",
    "This formula does not take into account the downtime at the end of the day. Given end of workshift time $T_{end}$, car index $j$ and the number of orders that this car completed during the day as $n_j$ the penalty for the downtime at the end of the day for this car is $$E_j = (T_{end} - T^j_{n_j})c_{d}$$\n",
    "\n",
    "The penalty for maintaining individual car will be denoted as $c_{a}$ ($a$ stands for auto). Then, the additional penalty for maintaining $N$ cars on a given day equals to $Nc_a$\n",
    "\n",
    "## Clients\n",
    "\n",
    "The total number of clients, or orders will be denoted as $C$. Individual order is represented by a tuple $(t^k, X_p, X_d)$, where $t^k$ denotes the minimum possible time for a pickup, $X_p$ the pickup point, and $X_d$ the destination point. \n",
    "\n",
    "A cost for a late pickup of the client will be denoted as $c_{t}$. Therefore, for individual order $k$ the penalty for the pickup delay equals to $D_k = (T_p^k - t^k)c_{t}$.\n",
    "\n",
    "## Total penalty\n",
    "\n",
    "To sum up, we will aim to minimize taxi car downtime, pickup delays and fuel costs. Thus, for a given formulation of a problem our goal is:\n",
    "\n",
    "$$\\Sigma_{j, k = 1}^{N, C}P_{j, k} + \\Sigma_{j=1}^N E_j + Nc_a + \\Sigma_{k=1}^C D_k \\rightarrow min$$"
   ]
  },
  {
   "cell_type": "markdown",
   "metadata": {},
   "source": [
    "# Chosen Methods\n",
    "\n",
    "## 1. Greedy Algorithms\n",
    "\n",
    "One of the most straightforward approaches to the problem are greedy algorithms. We can perform the greedy steps in order to make decisions upon pick ups of clients. However, it can be clearly seen almost instantly that applying such algorithms will not produce an optimal solution. However, applying such technique we can reach a sufficient approximation.\n",
    "\n",
    "### 1.1 Straightforward greedy algorithm\n",
    "\n",
    "For a greedy algorithm we choose the following strategy:\n",
    "\n",
    "1. Sort the clients by their pickup time.\n",
    "2. Iterate through a clients. For a given client $i$ assign the driver to $k$ to this client with the minimal possible value of a function: $time(X_k, X_p^i) c^f + (T_p^i - T_k - time(X_k, X_p^i)) c^d + (-T_p^i + T_k + time(X_k, X_p^i)) c_t$. Where $T_k$ is the time for $k$th driver after delivering its previous client and $X_k$ is the position where the driver $k$ delivered his or her last client. After choosing the best possible driver we assign the client to him or her and update the values $T_k$ and $X_k$ according to the data from the client's order.\n",
    "3. We repeat the 2nd step until all clients are assigned to all drivers.\n",
    "\n",
    "### 1.2 Simulated annealing algorithm\n",
    "\n",
    "Since our previous algorithm has an obvious issue of falling into local optima, one possible improvement can be to perform simmulated annealing technique.\n",
    "\n",
    "Consider that our initial solution is a random assignment of all clients to different clients and also in random order. To cover the full space of the solutions we can perform two different optimization steps:\n",
    "1. Take a client $i$ assigned and assign it to a random driver.\n",
    "2. Take a driver $k$, find two clients that are assigned to this driver. Swap the order of the delivering these clients."
   ]
  },
  {
   "cell_type": "markdown",
   "metadata": {},
   "source": [
    "## 2. Dynamic Programming\n",
    "\n",
    "The second approach to the car allocation problem solution would be to use dynamic programming. Then, it could be solved using the same method, as speed scheduling problem, which was considered in the course. Given some optimal car assignment to orders up to the order $j$ (if the orders are sorted in time), we find the optimal value for each driver $i$ if we decide to assign him or her to order $j+1$. \n",
    "\n",
    "Given the information about the previous orders, the penalty for current assignment can easily be calculated, as we have information about geographical location of previous drop-off point, drop-off time, time and distance between previous drop-off point and current pickup point.\n",
    "\n",
    "To solve such problem, a matrix of size $N \\times C$ will be used, where $C$ denotes the number of clients, or equivalently, the number of orders, and $N$ denotes the number of drivers. Then, the final assignment will be recovered from the minimal value of column $C-1$ (numeration starts from 0) by backtracking."
   ]
  },
  {
   "cell_type": "markdown",
   "metadata": {},
   "source": [
    "## 3. Linear Programming\n",
    "\n",
    "The third approach to the problem would be to use LP-relaxation. Given the variable matrix $A$ of size $N \\times C$, where $C$ denotes the number of clients, and $N$ denotes the number of drivers, $a_{i,j} = 1$, if driver $i$ was assigned to order $j$, and $0$ otherwise.\n",
    "\n",
    "Formulating the car allocation problem will require implementation of sophisticated restrictions and weights function. "
   ]
  },
  {
   "cell_type": "markdown",
   "metadata": {},
   "source": [
    "## 4. Integer Programming"
   ]
  },
  {
   "cell_type": "markdown",
   "metadata": {},
   "source": [
    "## 5. Flow Problem"
   ]
  },
  {
   "cell_type": "markdown",
   "metadata": {},
   "source": [
    "# Experiments"
   ]
  },
  {
   "cell_type": "code",
   "execution_count": null,
   "metadata": {
    "collapsed": true
   },
   "outputs": [],
   "source": [
    "# Miscellaneous here\n",
    "\n",
    "# TODO: function to draw solutions to debug more easily"
   ]
  },
  {
   "cell_type": "code",
   "execution_count": null,
   "metadata": {
    "collapsed": true
   },
   "outputs": [],
   "source": [
    "# Greedy algorithm soluions here"
   ]
  },
  {
   "cell_type": "code",
   "execution_count": 59,
   "metadata": {
    "collapsed": false
   },
   "outputs": [
    {
     "name": "stdout",
     "output_type": "stream",
     "text": [
      "Assignments of the drivers for clients [ 0.  2.  3.]\n"
     ]
    }
   ],
   "source": [
    "# Dynamic programming solutions here\n",
    "\n",
    "import numpy as np\n",
    "\n",
    "\n",
    "## SIMPLE IMPLEMENTATION OF THE DYNAMIC PROGRAMMING:\n",
    "## Assumptions:\n",
    "## 1. Clients are sorted by the pickup desired time\n",
    "## 2. Clients are picked up in the order of their pickup desired time\n",
    "\n",
    "\n",
    "# Data Mock so far, not real data\n",
    "\n",
    "# drivers amount\n",
    "m = 4\n",
    "\n",
    "# driver's initial positions\n",
    "dr_x = np.asarray([10.0, 0.0, 20.0, 30.0])\n",
    "dr_y = np.asarray([10.0, 0.0, 20.0, 30.0])\n",
    "\n",
    "# clients amount\n",
    "n = 3\n",
    "\n",
    "# time desired\n",
    "td = np.asarray([ 10, 10, 10])\n",
    "\n",
    "# pickup point\n",
    "xp = np.asarray([ 10.0, 20.0, 30.0])\n",
    "yp = np.asarray([ 10.0, 20.0, 30.0])\n",
    "\n",
    "# destination point\n",
    "xd = np.asarray([ 10.0, 20.0, 30.0])\n",
    "yd = np.asarray([ 20.0, 30.0, 40.0])\n",
    "\n",
    "\n",
    "table = np.zeros((m, n + 1))\n",
    "\n",
    "# positions for a driver at each point of the solution\n",
    "d_x_positions = np.zeros((m, n + 1))\n",
    "d_y_positions = np.zeros((m, n + 1))\n",
    "d_x_positions[:, 0] = dr_x\n",
    "d_y_positions[:, 0] = dr_y\n",
    "\n",
    "d_times = np.zeros((m, n + 1))\n",
    "assignments = np.zeros(n)\n",
    "\n",
    "def distance(x1, y1, x2, y2):\n",
    "    return np.sqrt((x1 - x2) ** 2 + (y1 - y2) ** 2)\n",
    "\n",
    "for i_c in range(1, n + 1):  # iterating by clients\n",
    "    d_x_positions[:, i_c] = d_x_positions[:, i_c - 1]\n",
    "    d_y_positions[:, i_c] = d_y_positions[:, i_c - 1]\n",
    "    d_times[:, i_c] = d_times[:, i_c - 1]\n",
    "\n",
    "    # desired time of current client\n",
    "    desired_time = td[i_c - 1]\n",
    "    \n",
    "    # point of pickup of current client\n",
    "    pickup_x = xp[i_c - 1]\n",
    "    pickup_y = yp[i_c - 1]\n",
    "    \n",
    "    # min driver\n",
    "    i_min = 0\n",
    "    min_penalty = np.inf\n",
    "    for i_d in range(m):  # iterating by drivers\n",
    "        distance_to_pickup = distance(d_x_positions[i_d, i_c - 1], d_y_positions[i_d, i_c - 1], pickup_x, pickup_y)\n",
    "        lateness = np.maximum(0.0, d_times[i_d, i_c] + distance_to_pickup - desired_time) # travelling speed 1.0\n",
    "                \n",
    "        total_penalty = distance_to_pickup + lateness ** 4\n",
    "                \n",
    "        if min_penalty > total_penalty:\n",
    "            min_penalty = total_penalty\n",
    "            i_min = i_d\n",
    "    \n",
    "    # assignment index of current client\n",
    "    assignments[i_c - 1] = i_min\n",
    "    \n",
    "    # updating the position of the assigned driver to the destination point of the client\n",
    "    d_x_positions[i_min, i_c] = xd[i_c - 1]\n",
    "    d_y_positions[i_min, i_c] = yd[i_c - 1]\n",
    "    \n",
    "    # updating time of the driver after delivering the client\n",
    "    # it is max from desired time or time of pick up + time that is spent on delivering\n",
    "    d_times[i_min, i_c] = \\\n",
    "                np.maximum(td[i_c - 1], d_times[i_min, i_c - 1] + distance(d_x_positions[i_min, i_c - 1], d_y_positions[i_min, i_c - 1], pickup_x, pickup_y)) + \\\n",
    "                                      distance(pickup_x, pickup_y, xd[i_c - 1], yd[i_c - 1])\n",
    "            \n",
    "print \"Assignments of the drivers for clients\", assignments"
   ]
  }
 ],
 "metadata": {
  "anaconda-cloud": {},
  "kernelspec": {
   "display_name": "Python [conda env:py27]",
   "language": "python",
   "name": "conda-env-py27-py"
  },
  "language_info": {
   "codemirror_mode": {
    "name": "ipython",
    "version": 2
   },
   "file_extension": ".py",
   "mimetype": "text/x-python",
   "name": "python",
   "nbconvert_exporter": "python",
   "pygments_lexer": "ipython2",
   "version": "2.7.12"
  }
 },
 "nbformat": 4,
 "nbformat_minor": 0
}
