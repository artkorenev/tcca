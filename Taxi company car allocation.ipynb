{
 "cells": [
  {
   "cell_type": "markdown",
   "metadata": {},
   "source": [
    "# Taxi company car allocation\n",
    "\n",
    "\n",
    "### Optimization Methods, MA06002, 2016\n",
    "\n",
    "* Artem Korenev\n",
    "* Andrei Kvasov\n",
    "* Anton Marin\n",
    "* Oleg Sudakov\n",
    "\n",
    "It is common knowledge, that the financial efficiency, or, equivalently, profit of a taxi company depends on how many customers its drivers will be able to serve, and what resources should be spent to achieve such result. The company should also consider its reputation as a brand, which depends on, among other factors, on how fast its cars are able to pick up clients and to drive them to their destination. \n",
    "\n",
    "Both of these metrics greatly depend on how many cars a company should employ, and where they should be allocated geographically during the day.\n",
    "\n",
    "In this problem, our team will examine historical data of Uber pickups in New York City, collected from April to September 2014.\n",
    "\n",
    "# Problem formulation\n",
    "\n",
    "The dataset contains the following information about Uber pickups in New York City: Date and time of the Uber pickup, the latitude of the Uber pickup, and the longitude of it. The pickup locations will be represented as points of a graph, where the weight of a given edge between vertices will be the distance between two points. We will be solving vehicle allocation problem, assuming that we know the orders' locations and times in advance.\n",
    "\n",
    "Let's examine elements of the problem individually:\n",
    "\n",
    "## Taxi drivers\n",
    "\n",
    "The total number of taxi drivers will be denoted as $N$. Each driver will start his working day at position $X_0^j$ at time $T_0^j$, where $j$ denotes the index of a taxi car.\n",
    "\n",
    "We will assume, that the driver's shift has a following schedule:\n",
    "\n",
    "1. The car $j$ waits for orders at a specific point $X_w^j$, starting from the time $T_w^j$;\n",
    "2. The car drives to pick up the client $k$ at the same point at time $T_p^k$;\n",
    "3. After picking up the client, car immediately drives to its destination $X_d$. It arrives at time $T_a^k$;\n",
    "4. The car drops the client at the destination point and afterwards heads to the next pickup point $X_{w+1}^j$ to wait for the order. It starts waiting for the next client at time $T_{w+1}^j$ (if the car waits for the next client at the drop-off point of the previous order, $T_{w+1}^j = T_a^k$.\n",
    "\n",
    "Obviously, $T_a^k = T_p^k + time(X_p, X_d)$, and $T_{w+1}^j = T_a^k + time(X_d, X_{w+1}^j)$, where the $time(A, B)$ denotes the time needed to get from point $A$ to point $B$. $T_p^k$ is given by the dataset.\n",
    "\n",
    "We will introduce two penalties for each car:\n",
    "\n",
    "* $c_{d}$ - downtime cost per unit of time, induced on each taxi car when it is stationary.\n",
    "* $c_{f}$ - fuel cost per unit of time, induced on each taxi car when it is en route.\n",
    "\n",
    "Therefore, if the car $j$ is assigned to order $k$, the penalty for this individual order equals to:\n",
    "\n",
    "$$P_{j, k} = time(X_w^j, X_p)c_{f} + (T_p^k - T_w^j - time(X_w^j, X_p))c_{d} + time(X_p, X_d)c_{f} + time(X_d, X_{w+1}^j)c_{f}$$\n",
    "\n",
    "This formula does not take into account the downtime at the end of the day. Given end of workshift time $T_{end}$, car index $j$ and the number of orders that this car completed during the day as $n_j$ the penalty for the downtime at the end of the day for this car is $$E_j = (T_{end} - T^j_{n_j})c_{d}$$\n",
    "\n",
    "The penalty for maintaining individual car will be denoted as $c_{a}$ ($a$ stands for auto). Then, the additional penalty for maintaining $N$ cars on a given day equals to $Nc_a$\n",
    "\n",
    "## Clients\n",
    "\n",
    "The total number of clients, or orders will be denoted as $C$. Individual order is represented by a tuple $(t^k, X_p, X_d)$, where $t^k$ denotes the minimum possible time for a pickup, $X_p$ the pickup point, and $X_d$ the destination point. \n",
    "\n",
    "A cost for a late pickup of the client will be denoted as $c_{t}$. Therefore, for individual order $k$ the penalty for the pickup delay equals to $D_k = (T_p^k - t^k)c_{t}$.\n",
    "\n",
    "## Total penalty\n",
    "\n",
    "To sum up, we will aim to minimize taxi car downtime, pickup delays and fuel costs. Thus, for a given formulation of a problem our goal is:\n",
    "\n",
    "$$\\Sigma_{j, k = 1}^{N, C}P_{j, k} + \\Sigma_{j=1}^N E_j + Nc_a + \\Sigma_{k=1}^C D_k \\rightarrow min$$"
   ]
  },
  {
   "cell_type": "markdown",
   "metadata": {},
   "source": [
    "# Chosen Methods\n",
    "\n",
    "## 1. Greedy Algorithms\n",
    "\n",
    "One of the most straightforward approaches to the problem are greedy algorithms. We can perform the greedy steps in order to make decisions upon pick ups of clients. However, it can be clearly seen almost instantly that applying such algorithms will not produce an optimal solution. However, applying such technique we can reach a sufficient approximation.\n",
    "\n",
    "### 1.1 Straightforward greedy algorithm\n",
    "\n",
    "For a greedy algorithm we choose the following strategy:\n",
    "\n",
    "1. Sort the clients by their pickup time.\n",
    "2. Iterate through a clients. For a given client $i$ assign the driver to $k$ to this client with the minimal possible value of a function: $time(X_k, X_p^i) c^f + (T_p^i - T_k - time(X_k, X_p^i)) c^d + (-T_p^i + T_k + time(X_k, X_p^i)) c_t$. Where $T_k$ is the time for $k$th driver after delivering its previous client and $X_k$ is the position where the driver $k$ delivered his or her last client. After choosing the best possible driver we assign the client to him or her and update the values $T_k$ and $X_k$ according to the data from the client's order.\n",
    "3. We repeat the 2nd step until all clients are assigned to all drivers.\n",
    "\n",
    "### 1.2 Simulated annealing algorithm\n",
    "\n",
    "Since our previous algorithm has an obvious issue of falling into local optima, one possible improvement can be to perform simmulated annealing technique.\n",
    "\n",
    "Consider that our initial solution is a random assignment of all clients to different clients and also in random order. To cover the full space of the solutions we can perform two different optimization steps:\n",
    "1. Take a client $i$ assigned and assign it to a random driver.\n",
    "2. Take a driver $k$, find two clients that are assigned to this driver. Swap the order of the delivering these clients."
   ]
  },
  {
   "cell_type": "markdown",
   "metadata": {},
   "source": [
    "## 2. Dynamic Programming\n",
    "\n",
    "The second approach to the car allocation problem solution would be to use dynamic programming. Then, it could be solved using the same method, as speed scheduling problem, which was considered in the course. Given some optimal car assignment to orders up to the order $j$ (if the orders are sorted in time), we find the optimal value for each driver $i$ if we decide to assign him or her to order $j+1$. \n",
    "\n",
    "Given the information about the previous orders, the penalty for current assignment can easily be calculated, as we have information about geographical location of previous drop-off point, drop-off time, time and distance between previous drop-off point and current pickup point.\n",
    "\n",
    "To solve such problem, a matrix of size $N \\times C$ will be used, where $C$ denotes the number of clients, or equivalently, the number of orders, and $N$ denotes the number of drivers. Then, the final assignment will be recovered from the minimal value of column $C-1$ (numeration starts from 0) by backtracking."
   ]
  },
  {
   "cell_type": "markdown",
   "metadata": {},
   "source": [
    "## 3. Linear Programming\n",
    "\n",
    "The third approach to the problem would be to use LP-relaxation. Given the variable matrix $A$ of size $N \\times C$, where $C$ denotes the number of clients, and $N$ denotes the number of drivers, $a_{i,j} = 1$, if driver $i$ was assigned to order $j$, and $0$ otherwise.\n",
    "\n",
    "Formulating the car allocation problem will require implementation of sophisticated restrictions and weights function. "
   ]
  },
  {
   "cell_type": "markdown",
   "metadata": {},
   "source": [
    "## 4. Integer Programming"
   ]
  },
  {
   "cell_type": "markdown",
   "metadata": {},
   "source": [
    "## 5. Flow Problem"
   ]
  },
  {
   "cell_type": "markdown",
   "metadata": {},
   "source": [
    "# Experiments"
   ]
  },
  {
   "cell_type": "code",
   "execution_count": 166,
   "metadata": {
    "collapsed": false
   },
   "outputs": [
    {
     "name": "stdout",
     "output_type": "stream",
     "text": [
      "            Date  Hour  Minute      Lat      Lon    Base\n",
      "0     04.12.2014     0       0  40.7480 -73.9870  B02512\n",
      "1087  04.12.2014     0       0  40.6646 -73.7253  B02598\n",
      "1088  04.12.2014     0       0  40.7744 -73.9632  B02598\n",
      "1089  04.12.2014     0       0  40.7280 -73.9930  B02598\n",
      "1090  04.12.2014     0       0  40.7157 -74.0049  B02598\n",
      "\n",
      "Total clients: 9085\n",
      "Desired Times: [   0    0    0 ..., 1048 1048 1048], shape: (9085L,)\n",
      "Pickup X-coordinate: [ 40.748   40.6646  40.7744 ...,  40.7188  40.6449  40.7253], shape: (9085L,)\n",
      "Pickup Y-coordinate: [-73.987  -73.7253 -73.9632 ..., -74.0067 -73.7823 -74.0092], shape: (9085L,)\n",
      "Destination X-coordinate: [ 40.7166  40.7283  40.7606 ...,  40.7363  40.7394  40.7249], shape: (9085L,)\n",
      "Distanation Y-coordinate: [-74.0042 -73.9888 -73.9698 ..., -74.0083 -74.0087 -73.9514], shape: (9085L,)\n"
     ]
    }
   ],
   "source": [
    "# Data preparations\n",
    "\n",
    "import pandas as pd\n",
    "from dateutil.parser import parse\n",
    "\n",
    "df = pd.read_csv('data/04.12.2014.csv')\n",
    "\n",
    "# sorting by time\n",
    "df = df.sort_values(['Hour', 'Minute'])\n",
    "print df.head()\n",
    "\n",
    "# Computing times with ms\n",
    "times = df.as_matrix(columns=['Hour', 'Minute'])\n",
    "# times = 60 * 1000 * (60 * times[:, 0] + times[:, 1])\n",
    "times = (60 * times[:, 0] + times[:, 1])  # TODO: Change to MS (the line above)\n",
    "\n",
    "# Vectors of X and Y positions\n",
    "x_pos = df.as_matrix(columns=['Lat']).reshape(-1)\n",
    "y_pos = df.as_matrix(columns=['Lon']).reshape(-1)\n",
    "\n",
    "# number of clients\n",
    "n = times.shape[0] / 2\n",
    "\n",
    "# Desired times\n",
    "td = times[:n]\n",
    "\n",
    "# Pickup XY coordinates\n",
    "xp = x_pos[:n]\n",
    "yp = y_pos[:n]\n",
    "\n",
    "# Destination XY coordinates\n",
    "xd = x_pos[n:]\n",
    "yd = y_pos[n:]\n",
    "\n",
    "print\n",
    "print 'Total clients: {}'.format(n)\n",
    "print 'Desired Times: {}, shape: {}'.format(td, td.shape)\n",
    "print 'Pickup X-coordinate: {}, shape: {}'.format(xp, xp.shape)\n",
    "print 'Pickup Y-coordinate: {}, shape: {}'.format(yp, yp.shape)\n",
    "print 'Destination X-coordinate: {}, shape: {}'.format(xd, xd.shape)\n",
    "print 'Distanation Y-coordinate: {}, shape: {}'.format(yd, yd.shape)"
   ]
  },
  {
   "cell_type": "code",
   "execution_count": 167,
   "metadata": {
    "collapsed": true
   },
   "outputs": [],
   "source": [
    "# Miscellaneous here\n",
    "\n",
    "# TODO: function to draw solutions to debug more easily\n",
    "\n",
    "import time\n"
   ]
  },
  {
   "cell_type": "code",
   "execution_count": 168,
   "metadata": {
    "collapsed": true
   },
   "outputs": [],
   "source": [
    "# Greedy algorithm soluions here"
   ]
  },
  {
   "cell_type": "code",
   "execution_count": 171,
   "metadata": {
    "collapsed": false
   },
   "outputs": [
    {
     "name": "stdout",
     "output_type": "stream",
     "text": [
      "Processed: 9085 clients with 400 drivers for 27.3320000172 seconds\n",
      "Assignments of the drivers for clients: [   0.    1.    2. ...,   50.  226.  144.]\n",
      "Times of taxis: [[  0.00000000e+00   3.58022346e-02   3.58022346e-02 ...,   9.21009070e+02\n",
      "    9.21009070e+02   9.21009070e+02]\n",
      " [  0.00000000e+00   0.00000000e+00   5.45758171e-01 ...,   1.01700130e+03\n",
      "    1.01700130e+03   1.01700130e+03]\n",
      " [  0.00000000e+00   0.00000000e+00   0.00000000e+00 ...,   1.04806089e+03\n",
      "    1.04806089e+03   1.04806089e+03]\n",
      " ..., \n",
      " [  0.00000000e+00   0.00000000e+00   0.00000000e+00 ...,   1.01001970e+03\n",
      "    1.01001970e+03   1.01001970e+03]\n",
      " [  0.00000000e+00   0.00000000e+00   0.00000000e+00 ...,   9.82007398e+02\n",
      "    9.82007398e+02   9.82007398e+02]\n",
      " [  0.00000000e+00   0.00000000e+00   0.00000000e+00 ...,   1.04713168e+03\n",
      "    1.04713168e+03   1.04713168e+03]]\n"
     ]
    }
   ],
   "source": [
    "# Dynamic programming solutions here\n",
    "\n",
    "import numpy as np\n",
    "\n",
    "\n",
    "## SIMPLE IMPLEMENTATION OF THE DYNAMIC PROGRAMMING:\n",
    "## Assumptions:\n",
    "## 1. Clients are sorted by the pickup desired time\n",
    "## 2. Clients are picked up in the order of their pickup desired time\n",
    "\n",
    "\n",
    "# Data Mock so far, not real data\n",
    "\n",
    "# clients amount\n",
    "# n = 3\n",
    "\n",
    "# # time desired\n",
    "# td = np.asarray([ 10, 10, 10])\n",
    "\n",
    "# # pickup point\n",
    "# xp = np.asarray([ 10.0, 20.0, 30.0])\n",
    "# yp = np.asarray([ 10.0, 20.0, 30.0])\n",
    "\n",
    "# # destination point\n",
    "# xd = np.asarray([ 10.0, 20.0, 30.0])\n",
    "# yd = np.asarray([ 20.0, 30.0, 40.0])\n",
    "\n",
    "# drivers amount\n",
    "m = 400\n",
    "\n",
    "# driver's initial positions\n",
    "dr_x = np.ones(m) * 40.7480\n",
    "dr_y = np.ones(m) * -73.9870\n",
    "\n",
    "table = np.zeros((m, n + 1))\n",
    "\n",
    "# positions for a driver at each point of the solution\n",
    "d_x_positions = np.zeros((m, n + 1))\n",
    "d_y_positions = np.zeros((m, n + 1))\n",
    "d_x_positions[:, 0] = dr_x\n",
    "d_y_positions[:, 0] = dr_y\n",
    "\n",
    "d_times = np.zeros((m, n + 1))\n",
    "assignments = np.zeros(n)\n",
    "\n",
    "def distance(x1, y1, x2, y2):\n",
    "    return np.sqrt((x1 - x2) ** 2 + (y1 - y2) ** 2)\n",
    "\n",
    "start = time.time()\n",
    "\n",
    "for i_c in range(1, n + 1):  # iterating by clients\n",
    "    d_x_positions[:, i_c] = d_x_positions[:, i_c - 1]\n",
    "    d_y_positions[:, i_c] = d_y_positions[:, i_c - 1]\n",
    "    d_times[:, i_c] = d_times[:, i_c - 1]\n",
    "\n",
    "    # desired time of current client\n",
    "    desired_time = td[i_c - 1]\n",
    "    \n",
    "    # point of pickup of current client\n",
    "    pickup_x = xp[i_c - 1]\n",
    "    pickup_y = yp[i_c - 1]\n",
    "    \n",
    "    # min driver\n",
    "    i_min = 0\n",
    "    min_penalty = np.inf\n",
    "    for i_d in range(m):  # iterating by drivers\n",
    "        distance_to_pickup = distance(d_x_positions[i_d, i_c - 1], d_y_positions[i_d, i_c - 1], pickup_x, pickup_y)\n",
    "        lateness = np.maximum(0.0, d_times[i_d, i_c] + distance_to_pickup - desired_time) # travelling speed 1.0\n",
    "                \n",
    "        total_penalty = distance_to_pickup + lateness ** 2\n",
    "                \n",
    "        if min_penalty > total_penalty:\n",
    "            min_penalty = total_penalty\n",
    "            i_min = i_d\n",
    "    \n",
    "    # assignment index of current client\n",
    "    assignments[i_c - 1] = i_min\n",
    "    \n",
    "    # updating the position of the assigned driver to the destination point of the client\n",
    "    d_x_positions[i_min, i_c] = xd[i_c - 1]\n",
    "    d_y_positions[i_min, i_c] = yd[i_c - 1]\n",
    "    \n",
    "    # updating time of the driver after delivering the client\n",
    "    # it is max from desired time or time of pick up + time that is spent on delivering\n",
    "    d_times[i_min, i_c] = \\\n",
    "                np.maximum(td[i_c - 1], d_times[i_min, i_c - 1] + distance(d_x_positions[i_min, i_c - 1], d_y_positions[i_min, i_c - 1], pickup_x, pickup_y)) + \\\n",
    "                                      distance(pickup_x, pickup_y, xd[i_c - 1], yd[i_c - 1])\n",
    "         \n",
    "end = time.time()\n",
    "\n",
    "print 'Processed: {} clients with {} drivers for {} seconds'.format(n, m, (end - start))\n",
    "print \"Assignments of the drivers for clients: {}\".format(assignments)\n",
    "print 'Times of taxis: {}'.format(d_times)"
   ]
  },
  {
   "cell_type": "code",
   "execution_count": null,
   "metadata": {
    "collapsed": true
   },
   "outputs": [],
   "source": []
  }
 ],
 "metadata": {
  "anaconda-cloud": {},
  "kernelspec": {
   "display_name": "Python [conda env:py27]",
   "language": "python",
   "name": "conda-env-py27-py"
  },
  "language_info": {
   "codemirror_mode": {
    "name": "ipython",
    "version": 2
   },
   "file_extension": ".py",
   "mimetype": "text/x-python",
   "name": "python",
   "nbconvert_exporter": "python",
   "pygments_lexer": "ipython2",
   "version": "2.7.12"
  }
 },
 "nbformat": 4,
 "nbformat_minor": 0
}
